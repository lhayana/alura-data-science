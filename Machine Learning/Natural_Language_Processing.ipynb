{
  "nbformat": 4,
  "nbformat_minor": 0,
  "metadata": {
    "colab": {
      "name": "Natural Language Processing.ipynb",
      "provenance": [],
      "collapsed_sections": []
    },
    "kernelspec": {
      "name": "python3",
      "display_name": "Python 3"
    }
  },
  "cells": [
    {
      "cell_type": "code",
      "metadata": {
        "id": "KyeJ4bP96Fpg",
        "colab_type": "code",
        "colab": {}
      },
      "source": [
        "with open(\"artigos.txt\", \"r\") as f:\n",
        "  artigos = f.read()"
      ],
      "execution_count": null,
      "outputs": []
    },
    {
      "cell_type": "code",
      "metadata": {
        "id": "Dh54LUrEAiPL",
        "colab_type": "code",
        "colab": {
          "base_uri": "https://localhost:8080/",
          "height": 285
        },
        "outputId": "34665669-7dd7-4610-f195-d8d4970b53bf"
      },
      "source": [
        "print(artigos[:500])"
      ],
      "execution_count": null,
      "outputs": [
        {
          "output_type": "stream",
          "text": [
            "\n",
            "\n",
            "\n",
            "imagem \n",
            "\n",
            "Temos a seguinte classe que representa um usuário no nosso sistema:\n",
            "\n",
            "java\n",
            "\n",
            "Para salvar um novo usuário, várias validações são feitas, como por exemplo: Ver se o nome só contém letras, [**o CPF só números**] e ver se o usuário possui no mínimo 18 anos. Veja o método que faz essa validação:\n",
            "\n",
            "java \n",
            "\n",
            "Suponha agora que eu tenha outra classe, a classe `Produto`, que contém um atributo nome e eu quero fazer a mesma validação que fiz para o nome do usuário: Ver se só contém letras. E aí? Vou\n"
          ],
          "name": "stdout"
        }
      ]
    },
    {
      "cell_type": "code",
      "metadata": {
        "id": "N2SSoKbiAtDo",
        "colab_type": "code",
        "colab": {
          "base_uri": "https://localhost:8080/",
          "height": 34
        },
        "outputId": "cc8c735b-0880-40ab-e1cf-904e5f124c18"
      },
      "source": [
        "exemplo = \"Olá, tudo bem?\"\n",
        "tokens = exemplo.split()\n",
        "\n",
        "tokens"
      ],
      "execution_count": null,
      "outputs": [
        {
          "output_type": "execute_result",
          "data": {
            "text/plain": [
              "['Olá,', 'tudo', 'bem?']"
            ]
          },
          "metadata": {
            "tags": []
          },
          "execution_count": 3
        }
      ]
    },
    {
      "cell_type": "code",
      "metadata": {
        "id": "yhWgq4IGB_sl",
        "colab_type": "code",
        "colab": {
          "base_uri": "https://localhost:8080/",
          "height": 52
        },
        "outputId": "8ca078a8-a26b-4779-bae3-7db3d073dae9"
      },
      "source": [
        "import nltk\n",
        "nltk.download('punkt')\n",
        "\n",
        "palavras_separadas = nltk.tokenize.word_tokenize(exemplo)"
      ],
      "execution_count": null,
      "outputs": [
        {
          "output_type": "stream",
          "text": [
            "[nltk_data] Downloading package punkt to /root/nltk_data...\n",
            "[nltk_data]   Unzipping tokenizers/punkt.zip.\n"
          ],
          "name": "stdout"
        }
      ]
    },
    {
      "cell_type": "code",
      "metadata": {
        "id": "flRryrZdCfXK",
        "colab_type": "code",
        "colab": {
          "base_uri": "https://localhost:8080/",
          "height": 34
        },
        "outputId": "1ae9709e-d3a4-4c94-d4d9-e2ad4b2ea98c"
      },
      "source": [
        "palavras_separadas"
      ],
      "execution_count": null,
      "outputs": [
        {
          "output_type": "execute_result",
          "data": {
            "text/plain": [
              "['Olá', ',', 'tudo', 'bem', '?']"
            ]
          },
          "metadata": {
            "tags": []
          },
          "execution_count": 5
        }
      ]
    },
    {
      "cell_type": "code",
      "metadata": {
        "id": "Vl_cgtsWFb59",
        "colab_type": "code",
        "colab": {
          "base_uri": "https://localhost:8080/",
          "height": 34
        },
        "outputId": "2c5c2024-faa8-4797-995f-187d91e8ebb1"
      },
      "source": [
        "'palavra'.isalpha() #Vê se é alphabetic"
      ],
      "execution_count": null,
      "outputs": [
        {
          "output_type": "execute_result",
          "data": {
            "text/plain": [
              "True"
            ]
          },
          "metadata": {
            "tags": []
          },
          "execution_count": 6
        }
      ]
    },
    {
      "cell_type": "code",
      "metadata": {
        "id": "EfYqBhy2Chs3",
        "colab_type": "code",
        "colab": {}
      },
      "source": [
        "def separa_palavras(lista_tokens):\n",
        "  lista_palavras = []\n",
        "  for token in lista_tokens:\n",
        "    if token.isalpha():\n",
        "      lista_palavras.append(token)\n",
        "  return lista_palavras"
      ],
      "execution_count": null,
      "outputs": []
    },
    {
      "cell_type": "code",
      "metadata": {
        "id": "dRB8d31sFwl-",
        "colab_type": "code",
        "colab": {
          "base_uri": "https://localhost:8080/",
          "height": 34
        },
        "outputId": "da235938-b2ba-41c9-923d-0280eea1d798"
      },
      "source": [
        "separa_palavras(palavras_separadas)"
      ],
      "execution_count": null,
      "outputs": [
        {
          "output_type": "execute_result",
          "data": {
            "text/plain": [
              "['Olá', 'tudo', 'bem']"
            ]
          },
          "metadata": {
            "tags": []
          },
          "execution_count": 8
        }
      ]
    },
    {
      "cell_type": "code",
      "metadata": {
        "id": "T7N96zjDF8ab",
        "colab_type": "code",
        "colab": {
          "base_uri": "https://localhost:8080/",
          "height": 34
        },
        "outputId": "99bd7c1e-90b4-41e6-9b0f-2887d7e16ae3"
      },
      "source": [
        "lista_tokens = nltk.tokenize.word_tokenize(artigos)\n",
        "lista_palavras = separa_palavras(lista_tokens)\n",
        "\n",
        "len(lista_palavras) #número total de palavras"
      ],
      "execution_count": null,
      "outputs": [
        {
          "output_type": "execute_result",
          "data": {
            "text/plain": [
              "309088"
            ]
          },
          "metadata": {
            "tags": []
          },
          "execution_count": 9
        }
      ]
    },
    {
      "cell_type": "code",
      "metadata": {
        "id": "1tT6FooqJpXG",
        "colab_type": "code",
        "colab": {
          "base_uri": "https://localhost:8080/",
          "height": 34
        },
        "outputId": "f9fdeee6-51fe-4eeb-d193-98a38c5ec0fb"
      },
      "source": [
        "lista_palavras[1:5]"
      ],
      "execution_count": null,
      "outputs": [
        {
          "output_type": "execute_result",
          "data": {
            "text/plain": [
              "['Temos', 'a', 'seguinte', 'classe']"
            ]
          },
          "metadata": {
            "tags": []
          },
          "execution_count": 10
        }
      ]
    },
    {
      "cell_type": "code",
      "metadata": {
        "id": "QbGdR9WwKgtS",
        "colab_type": "code",
        "colab": {}
      },
      "source": [
        "def normalizacao(lista_palavras):\n",
        "  lista_normalizada = []\n",
        "  for palavra in lista_palavras:\n",
        "    lista_normalizada.append(palavra.lower()) #tudo minúscula\n",
        "  return lista_normalizada"
      ],
      "execution_count": null,
      "outputs": []
    },
    {
      "cell_type": "code",
      "metadata": {
        "id": "Y-KDqlomK3zs",
        "colab_type": "code",
        "colab": {
          "base_uri": "https://localhost:8080/",
          "height": 34
        },
        "outputId": "39a78e92-a13c-450e-b721-73acc41c811b"
      },
      "source": [
        "lista_normalizada = normalizacao(lista_palavras)\n",
        "\n",
        "lista_normalizada[1:5]"
      ],
      "execution_count": null,
      "outputs": [
        {
          "output_type": "execute_result",
          "data": {
            "text/plain": [
              "['temos', 'a', 'seguinte', 'classe']"
            ]
          },
          "metadata": {
            "tags": []
          },
          "execution_count": 12
        }
      ]
    },
    {
      "cell_type": "code",
      "metadata": {
        "id": "Z82TVmgjLIW9",
        "colab_type": "code",
        "colab": {
          "base_uri": "https://localhost:8080/",
          "height": 34
        },
        "outputId": "d5a8de82-ee86-4027-b17c-4c3011a240d5"
      },
      "source": [
        "len(set(lista_normalizada)) #set retorna o conjunto sem repetições"
      ],
      "execution_count": null,
      "outputs": [
        {
          "output_type": "execute_result",
          "data": {
            "text/plain": [
              "15705"
            ]
          },
          "metadata": {
            "tags": []
          },
          "execution_count": 13
        }
      ]
    },
    {
      "cell_type": "code",
      "metadata": {
        "id": "Sit5qIeBAQXp",
        "colab_type": "code",
        "colab": {
          "base_uri": "https://localhost:8080/",
          "height": 34
        },
        "outputId": "b509f79a-2e4e-4f0a-8beb-e2b78a5c947d"
      },
      "source": [
        "lista = \"lgica\"\n",
        "(lista[:1], lista[1:]) #tupla"
      ],
      "execution_count": null,
      "outputs": [
        {
          "output_type": "execute_result",
          "data": {
            "text/plain": [
              "('l', 'gica')"
            ]
          },
          "metadata": {
            "tags": []
          },
          "execution_count": 14
        }
      ]
    },
    {
      "cell_type": "code",
      "metadata": {
        "id": "l-oJ2gn0D0tV",
        "colab_type": "code",
        "colab": {}
      },
      "source": [
        "palavra_exemplo = \"lgica\""
      ],
      "execution_count": null,
      "outputs": []
    },
    {
      "cell_type": "code",
      "metadata": {
        "id": "O9ahXI6pLXKM",
        "colab_type": "code",
        "colab": {}
      },
      "source": [
        "def insere_letras(fatias):\n",
        "  novas_palavras = []\n",
        "  letras = 'abcdefghijklmnopqrstuvwxyzàáâéêèíîìóôõòúûùç'\n",
        "\n",
        "  for Esquerdo, Direito in fatias:\n",
        "    for letra in letras:\n",
        "     novas_palavras.append(Esquerdo + letra + Direito)\n",
        "  return novas_palavras"
      ],
      "execution_count": null,
      "outputs": []
    },
    {
      "cell_type": "code",
      "metadata": {
        "id": "RYTE7PxQDg3F",
        "colab_type": "code",
        "colab": {
          "base_uri": "https://localhost:8080/",
          "height": 54
        },
        "outputId": "9b545dbd-1038-465c-f833-975f1a20a8ec"
      },
      "source": [
        "def gerador_palavras(palavra):\n",
        "  fatias = []\n",
        "  for i in range(len(palavra)+1):\n",
        "    fatias.append((palavra[:i], palavra[i:]))\n",
        "  palavras_geradas = insere_letras(fatias)\n",
        "  palavras_geradas += deletando_char(fatias)\n",
        "  palavras_geradas += troca_letra(fatias)\n",
        "  palavras_geradas += inverte_letra(fatias)\n",
        "  return palavras_geradas\n",
        "\n",
        "palavras_geradas= gerador_palavras(palavra_exemplo)\n",
        "print(palavras_geradas)"
      ],
      "execution_count": null,
      "outputs": [
        {
          "output_type": "stream",
          "text": [
            "['algica', 'blgica', 'clgica', 'dlgica', 'elgica', 'flgica', 'glgica', 'hlgica', 'ilgica', 'jlgica', 'klgica', 'llgica', 'mlgica', 'nlgica', 'olgica', 'plgica', 'qlgica', 'rlgica', 'slgica', 'tlgica', 'ulgica', 'vlgica', 'wlgica', 'xlgica', 'ylgica', 'zlgica', 'àlgica', 'álgica', 'âlgica', 'élgica', 'êlgica', 'èlgica', 'ílgica', 'îlgica', 'ìlgica', 'ólgica', 'ôlgica', 'õlgica', 'òlgica', 'úlgica', 'ûlgica', 'ùlgica', 'çlgica', 'lagica', 'lbgica', 'lcgica', 'ldgica', 'legica', 'lfgica', 'lggica', 'lhgica', 'ligica', 'ljgica', 'lkgica', 'llgica', 'lmgica', 'lngica', 'logica', 'lpgica', 'lqgica', 'lrgica', 'lsgica', 'ltgica', 'lugica', 'lvgica', 'lwgica', 'lxgica', 'lygica', 'lzgica', 'làgica', 'lágica', 'lâgica', 'légica', 'lêgica', 'lègica', 'lígica', 'lîgica', 'lìgica', 'lógica', 'lôgica', 'lõgica', 'lògica', 'lúgica', 'lûgica', 'lùgica', 'lçgica', 'lgaica', 'lgbica', 'lgcica', 'lgdica', 'lgeica', 'lgfica', 'lggica', 'lghica', 'lgiica', 'lgjica', 'lgkica', 'lglica', 'lgmica', 'lgnica', 'lgoica', 'lgpica', 'lgqica', 'lgrica', 'lgsica', 'lgtica', 'lguica', 'lgvica', 'lgwica', 'lgxica', 'lgyica', 'lgzica', 'lgàica', 'lgáica', 'lgâica', 'lgéica', 'lgêica', 'lgèica', 'lgíica', 'lgîica', 'lgìica', 'lgóica', 'lgôica', 'lgõica', 'lgòica', 'lgúica', 'lgûica', 'lgùica', 'lgçica', 'lgiaca', 'lgibca', 'lgicca', 'lgidca', 'lgieca', 'lgifca', 'lgigca', 'lgihca', 'lgiica', 'lgijca', 'lgikca', 'lgilca', 'lgimca', 'lginca', 'lgioca', 'lgipca', 'lgiqca', 'lgirca', 'lgisca', 'lgitca', 'lgiuca', 'lgivca', 'lgiwca', 'lgixca', 'lgiyca', 'lgizca', 'lgiàca', 'lgiáca', 'lgiâca', 'lgiéca', 'lgiêca', 'lgièca', 'lgiíca', 'lgiîca', 'lgiìca', 'lgióca', 'lgiôca', 'lgiõca', 'lgiòca', 'lgiúca', 'lgiûca', 'lgiùca', 'lgiçca', 'lgicaa', 'lgicba', 'lgicca', 'lgicda', 'lgicea', 'lgicfa', 'lgicga', 'lgicha', 'lgicia', 'lgicja', 'lgicka', 'lgicla', 'lgicma', 'lgicna', 'lgicoa', 'lgicpa', 'lgicqa', 'lgicra', 'lgicsa', 'lgicta', 'lgicua', 'lgicva', 'lgicwa', 'lgicxa', 'lgicya', 'lgicza', 'lgicàa', 'lgicáa', 'lgicâa', 'lgicéa', 'lgicêa', 'lgicèa', 'lgicía', 'lgicîa', 'lgicìa', 'lgicóa', 'lgicôa', 'lgicõa', 'lgicòa', 'lgicúa', 'lgicûa', 'lgicùa', 'lgicça', 'lgicaa', 'lgicab', 'lgicac', 'lgicad', 'lgicae', 'lgicaf', 'lgicag', 'lgicah', 'lgicai', 'lgicaj', 'lgicak', 'lgical', 'lgicam', 'lgican', 'lgicao', 'lgicap', 'lgicaq', 'lgicar', 'lgicas', 'lgicat', 'lgicau', 'lgicav', 'lgicaw', 'lgicax', 'lgicay', 'lgicaz', 'lgicaà', 'lgicaá', 'lgicaâ', 'lgicaé', 'lgicaê', 'lgicaè', 'lgicaí', 'lgicaî', 'lgicaì', 'lgicaó', 'lgicaô', 'lgicaõ', 'lgicaò', 'lgicaú', 'lgicaû', 'lgicaù', 'lgicaç', 'gica', 'lica', 'lgca', 'lgia', 'lgic', 'lgica', 'agica', 'bgica', 'cgica', 'dgica', 'egica', 'fgica', 'ggica', 'hgica', 'igica', 'jgica', 'kgica', 'lgica', 'mgica', 'ngica', 'ogica', 'pgica', 'qgica', 'rgica', 'sgica', 'tgica', 'ugica', 'vgica', 'wgica', 'xgica', 'ygica', 'zgica', 'àgica', 'ágica', 'âgica', 'égica', 'êgica', 'ègica', 'ígica', 'îgica', 'ìgica', 'ógica', 'ôgica', 'õgica', 'ògica', 'úgica', 'ûgica', 'ùgica', 'çgica', 'laica', 'lbica', 'lcica', 'ldica', 'leica', 'lfica', 'lgica', 'lhica', 'liica', 'ljica', 'lkica', 'llica', 'lmica', 'lnica', 'loica', 'lpica', 'lqica', 'lrica', 'lsica', 'ltica', 'luica', 'lvica', 'lwica', 'lxica', 'lyica', 'lzica', 'làica', 'láica', 'lâica', 'léica', 'lêica', 'lèica', 'líica', 'lîica', 'lìica', 'lóica', 'lôica', 'lõica', 'lòica', 'lúica', 'lûica', 'lùica', 'lçica', 'lgaca', 'lgbca', 'lgcca', 'lgdca', 'lgeca', 'lgfca', 'lggca', 'lghca', 'lgica', 'lgjca', 'lgkca', 'lglca', 'lgmca', 'lgnca', 'lgoca', 'lgpca', 'lgqca', 'lgrca', 'lgsca', 'lgtca', 'lguca', 'lgvca', 'lgwca', 'lgxca', 'lgyca', 'lgzca', 'lgàca', 'lgáca', 'lgâca', 'lgéca', 'lgêca', 'lgèca', 'lgíca', 'lgîca', 'lgìca', 'lgóca', 'lgôca', 'lgõca', 'lgòca', 'lgúca', 'lgûca', 'lgùca', 'lgçca', 'lgiaa', 'lgiba', 'lgica', 'lgida', 'lgiea', 'lgifa', 'lgiga', 'lgiha', 'lgiia', 'lgija', 'lgika', 'lgila', 'lgima', 'lgina', 'lgioa', 'lgipa', 'lgiqa', 'lgira', 'lgisa', 'lgita', 'lgiua', 'lgiva', 'lgiwa', 'lgixa', 'lgiya', 'lgiza', 'lgiàa', 'lgiáa', 'lgiâa', 'lgiéa', 'lgiêa', 'lgièa', 'lgiía', 'lgiîa', 'lgiìa', 'lgióa', 'lgiôa', 'lgiõa', 'lgiòa', 'lgiúa', 'lgiûa', 'lgiùa', 'lgiça', 'lgica', 'lgicb', 'lgicc', 'lgicd', 'lgice', 'lgicf', 'lgicg', 'lgich', 'lgici', 'lgicj', 'lgick', 'lgicl', 'lgicm', 'lgicn', 'lgico', 'lgicp', 'lgicq', 'lgicr', 'lgics', 'lgict', 'lgicu', 'lgicv', 'lgicw', 'lgicx', 'lgicy', 'lgicz', 'lgicà', 'lgicá', 'lgicâ', 'lgicé', 'lgicê', 'lgicè', 'lgicí', 'lgicî', 'lgicì', 'lgicó', 'lgicô', 'lgicõ', 'lgicò', 'lgicú', 'lgicû', 'lgicù', 'lgicç', 'lgicaa', 'lgicab', 'lgicac', 'lgicad', 'lgicae', 'lgicaf', 'lgicag', 'lgicah', 'lgicai', 'lgicaj', 'lgicak', 'lgical', 'lgicam', 'lgican', 'lgicao', 'lgicap', 'lgicaq', 'lgicar', 'lgicas', 'lgicat', 'lgicau', 'lgicav', 'lgicaw', 'lgicax', 'lgicay', 'lgicaz', 'lgicaà', 'lgicaá', 'lgicaâ', 'lgicaé', 'lgicaê', 'lgicaè', 'lgicaí', 'lgicaî', 'lgicaì', 'lgicaó', 'lgicaô', 'lgicaõ', 'lgicaò', 'lgicaú', 'lgicaû', 'lgicaù', 'lgicaç', 'gicalica', 'licagca', 'lgcaia', 'lgiac']\n"
          ],
          "name": "stdout"
        }
      ]
    },
    {
      "cell_type": "code",
      "metadata": {
        "id": "P258v4S8Q4Kf",
        "colab_type": "code",
        "colab": {}
      },
      "source": [
        "def corretor(palavra):\n",
        "  palavras_geradas = gerador_palavras(palavra)\n",
        "  palavra_correta = max(palavras_geradas, key=probabilidade)\n",
        "  return palavra_correta"
      ],
      "execution_count": null,
      "outputs": []
    },
    {
      "cell_type": "code",
      "metadata": {
        "id": "2c5LYzLBTCIQ",
        "colab_type": "code",
        "colab": {
          "base_uri": "https://localhost:8080/",
          "height": 194
        },
        "outputId": "861dd136-8f5f-4a1e-ad52-59682275bad6"
      },
      "source": [
        "frequencia = nltk.FreqDist(lista_normalizada) #frequência de palavras\n",
        "\n",
        "frequencia.most_common(10)"
      ],
      "execution_count": null,
      "outputs": [
        {
          "output_type": "execute_result",
          "data": {
            "text/plain": [
              "[('de', 12276),\n",
              " ('o', 10955),\n",
              " ('que', 9530),\n",
              " ('a', 8690),\n",
              " ('e', 8215),\n",
              " ('para', 6039),\n",
              " ('um', 4960),\n",
              " ('é', 4674),\n",
              " ('uma', 4093),\n",
              " ('do', 3979)]"
            ]
          },
          "metadata": {
            "tags": []
          },
          "execution_count": 19
        }
      ]
    },
    {
      "cell_type": "code",
      "metadata": {
        "id": "Ibg_eZarTYxp",
        "colab_type": "code",
        "colab": {
          "base_uri": "https://localhost:8080/",
          "height": 34
        },
        "outputId": "fa975a34-954d-4148-b998-b18a4f39588b"
      },
      "source": [
        "frequencia[\"lógica\"]"
      ],
      "execution_count": null,
      "outputs": [
        {
          "output_type": "execute_result",
          "data": {
            "text/plain": [
              "77"
            ]
          },
          "metadata": {
            "tags": []
          },
          "execution_count": 20
        }
      ]
    },
    {
      "cell_type": "code",
      "metadata": {
        "id": "h7yJWV2rTp1n",
        "colab_type": "code",
        "colab": {}
      },
      "source": [
        "total_palavras = len(lista_normalizada)"
      ],
      "execution_count": null,
      "outputs": []
    },
    {
      "cell_type": "code",
      "metadata": {
        "id": "GBLJI1aaTb4u",
        "colab_type": "code",
        "colab": {
          "base_uri": "https://localhost:8080/",
          "height": 34
        },
        "outputId": "17299540-33f2-40d8-8f97-8f2cc37b7a1a"
      },
      "source": [
        "def probabilidade(palavra_gerada):\n",
        "  return (frequencia[palavra_gerada] / total_palavras)\n",
        "\n",
        "probabilidade(\"lógica\")"
      ],
      "execution_count": null,
      "outputs": [
        {
          "output_type": "execute_result",
          "data": {
            "text/plain": [
              "0.0002491199917175691"
            ]
          },
          "metadata": {
            "tags": []
          },
          "execution_count": 22
        }
      ]
    },
    {
      "cell_type": "code",
      "metadata": {
        "id": "Z3BSJ96jUAOO",
        "colab_type": "code",
        "colab": {
          "base_uri": "https://localhost:8080/",
          "height": 35
        },
        "outputId": "297688ba-7b4f-49da-91d9-365d220f8dd2"
      },
      "source": [
        "corretor(palavra_exemplo)"
      ],
      "execution_count": null,
      "outputs": [
        {
          "output_type": "execute_result",
          "data": {
            "application/vnd.google.colaboratory.intrinsic+json": {
              "type": "string"
            },
            "text/plain": [
              "'lógica'"
            ]
          },
          "metadata": {
            "tags": []
          },
          "execution_count": 23
        }
      ]
    },
    {
      "cell_type": "code",
      "metadata": {
        "id": "heqZllGRY8WT",
        "colab_type": "code",
        "colab": {
          "base_uri": "https://localhost:8080/",
          "height": 1000
        },
        "outputId": "fbeac63c-cbac-4f1e-8e71-b3f7c512dfa6"
      },
      "source": [
        "def cria_dados_teste(nome_arquivo):\n",
        "  lista_palavras_teste = []\n",
        "  f = open(nome_arquivo, \"r\")\n",
        "  for linha in f:\n",
        "    correta, errada = linha.split()\n",
        "    lista_palavras_teste.append((correta, errada))\n",
        "  f.close()\n",
        "  return lista_palavras_teste\n",
        "\n",
        "lista_teste = cria_dados_teste('palavras.txt')\n",
        "lista_teste"
      ],
      "execution_count": null,
      "outputs": [
        {
          "output_type": "execute_result",
          "data": {
            "text/plain": [
              "[('podemos', 'pyodemos'),\n",
              " ('esse', 'esje'),\n",
              " ('já', 'jrá'),\n",
              " ('nosso', 'nossov'),\n",
              " ('são', 'sãêo'),\n",
              " ('dos', 'dosa'),\n",
              " ('muito', 'muifo'),\n",
              " ('imagem', 'iômagem'),\n",
              " ('sua', 'ósua'),\n",
              " ('também', 'tambéùm'),\n",
              " ('ele', 'eme'),\n",
              " ('fazer', 'èazer'),\n",
              " ('temos', 'temfs'),\n",
              " ('essa', 'eàssa'),\n",
              " ('quando', 'quaôdo'),\n",
              " ('vamos', 'vamvos'),\n",
              " ('sobre', 'hsobre'),\n",
              " ('java', 'sjava'),\n",
              " ('das', 'daõs'),\n",
              " ('agora', 'agorah'),\n",
              " ('está', 'eòtá'),\n",
              " ('cada', 'céda'),\n",
              " ('mesmo', 'zmesmo'),\n",
              " ('nos', 'noâ'),\n",
              " ('forma', 'fobma'),\n",
              " ('seja', 'sejéa'),\n",
              " ('então', 'enêão'),\n",
              " ('criar', 'èriar'),\n",
              " ('código', 'cóeigo'),\n",
              " ('caso', 'casío'),\n",
              " ('exemplo', 'áexemplo'),\n",
              " ('tem', 'tĩem'),\n",
              " ('usuário', 'usuárôio'),\n",
              " ('dados', 'dfados'),\n",
              " ('python', 'pgthon'),\n",
              " ('nossa', 'nossah'),\n",
              " ('além', 'alémè'),\n",
              " ('assim', 'asõim'),\n",
              " ('ter', 'teb'),\n",
              " ('até', 'atĩ'),\n",
              " ('bem', 'âem'),\n",
              " ('design', 'desigen'),\n",
              " ('trabalho', 'trabalàho'),\n",
              " ('foi', 'foo'),\n",
              " ('apenas', 'apenaũ'),\n",
              " ('empresa', 'empresà'),\n",
              " ('valor', 'valíor'),\n",
              " ('será', 'serr'),\n",
              " ('entre', 'entke'),\n",
              " ('método', 'méqodo'),\n",
              " ('precisamos', 'precisamops'),\n",
              " ('ainda', 'ainàa'),\n",
              " ('vai', 'van'),\n",
              " ('conteúdo', 'ûconteúdo'),\n",
              " ('seus', 'çeus'),\n",
              " ('eu', 'eû'),\n",
              " ('todos', 'todtos'),\n",
              " ('tempo', 'temeo'),\n",
              " ('sempre', 'semre'),\n",
              " ('qual', 'quakl'),\n",
              " ('ela', 'elaá'),\n",
              " ('só', 'síó'),\n",
              " ('utilizar', 'utiqizar'),\n",
              " ('projeto', 'prhojeto'),\n",
              " ('site', 'siàe'),\n",
              " ('sem', 'seém'),\n",
              " ('pelo', 'peln'),\n",
              " ('alura', 'aléra'),\n",
              " ('dia', 'tdia'),\n",
              " ('tudo', 'tuúo'),\n",
              " ('podemos', 'kpodemos'),\n",
              " ('esse', 'eẽsse'),\n",
              " ('já', 'jé'),\n",
              " ('nosso', 'nçosso'),\n",
              " ('são', 'sãô'),\n",
              " ('dos', 'odos'),\n",
              " ('muito', 'tuito'),\n",
              " ('imagem', 'imõgem'),\n",
              " ('sua', 'siua'),\n",
              " ('também', 'tamvbém'),\n",
              " ('ele', 'elpe'),\n",
              " ('fazer', 'façzer'),\n",
              " ('temos', 'teos'),\n",
              " ('essa', 'eũsa'),\n",
              " ('quando', 'quaìdo'),\n",
              " ('vamos', 'vjmos'),\n",
              " ('sobre', 'sxobre'),\n",
              " ('java', 'jkva'),\n",
              " ('das', 'dms'),\n",
              " ('agora', 'agtora'),\n",
              " ('está', 'esútá'),\n",
              " ('cada', 'cava'),\n",
              " ('mesmo', 'medmo'),\n",
              " ('nos', 'ános'),\n",
              " ('forma', 'forûa'),\n",
              " ('seja', 'smeja'),\n",
              " ('então', 'enjtão'),\n",
              " ('criar', 'criôar'),\n",
              " ('código', 'cóàigo'),\n",
              " ('caso', 'èaso'),\n",
              " ('exemplo', 'exbemplo'),\n",
              " ('tem', 'túem'),\n",
              " ('usuário', 'usuárin'),\n",
              " ('dados', 'daáos'),\n",
              " ('python', 'pythoçn'),\n",
              " ('nossa', 'nossk'),\n",
              " ('além', 'âlém'),\n",
              " ('assim', 'aóssim'),\n",
              " ('ter', 'tãer'),\n",
              " ('até', 'vté'),\n",
              " ('bem', 'búm'),\n",
              " ('design', 'íesign'),\n",
              " ('trabalho', 'trabèalho'),\n",
              " ('foi', 'kfoi'),\n",
              " ('apenas', 'aapenas'),\n",
              " ('empresa', 'pmpresa'),\n",
              " ('valor', 'valoqr'),\n",
              " ('será', 'sçerá'),\n",
              " ('entre', 'entró'),\n",
              " ('método', 'nétodo'),\n",
              " ('precisamos', 'prefcisamos'),\n",
              " ('ainda', 'sainda'),\n",
              " ('vai', 'uai'),\n",
              " ('conteúdo', 'cĩonteúdo'),\n",
              " ('seus', 'sâus'),\n",
              " ('eu', 'ìeu'),\n",
              " ('todos', 'todás'),\n",
              " ('tempo', 'utempo'),\n",
              " ('sempre', 'sempce'),\n",
              " ('qual', 'fual'),\n",
              " ('ela', 'elal'),\n",
              " ('só', 'skó'),\n",
              " ('utilizar', 'utilĩzar'),\n",
              " ('projeto', 'proójeto'),\n",
              " ('site', 'isite'),\n",
              " ('sem', 'secm'),\n",
              " ('pelo', 'pẽlo'),\n",
              " ('alura', 'aluéa'),\n",
              " ('dia', 'dil'),\n",
              " ('tudo', 'tudy'),\n",
              " ('ela', 'qelay'),\n",
              " ('só', 'sód'),\n",
              " ('utilizar', 'dtilizacr'),\n",
              " ('projeto', 'bprojõto'),\n",
              " ('site', 'ysiteo'),\n",
              " ('sem', 'sõêm'),\n",
              " ('pelo', 'peàli'),\n",
              " ('alura', 'asuraó'),\n",
              " ('dia', 'deiìa'),\n",
              " ('tudo', 'tuĩdoì'),\n",
              " ('ela', 'eúaa'),\n",
              " ('só', 'ró'),\n",
              " ('utilizar', 'utilizẽaçr'),\n",
              " ('projeto', 'prêjetó'),\n",
              " ('site', 'sqiqte'),\n",
              " ('sem', 'sũexm'),\n",
              " ('pelo', 'pçlxo'),\n",
              " ('alura', 'uluraa'),\n",
              " ('dia', 'dĩaz'),\n",
              " ('tudo', 'kzudo'),\n",
              " ('corretor', 'correptor'),\n",
              " ('tática', 'trtica'),\n",
              " ('empoderamento', 'ewpoderamento'),\n",
              " ('linux', 'lifux'),\n",
              " ('cachorro', 'cachoçro'),\n",
              " ('gato', 'îgato'),\n",
              " ('cavalo', 'cakvalo'),\n",
              " ('relógio', 'relógiuo'),\n",
              " ('canela', 'canelac'),\n",
              " ('tênis', 'tênisy'),\n",
              " ('ansiosa', 'anciosa'),\n",
              " ('ansiosa', 'ancciosa'),\n",
              " ('ansiosa', 'ansioa'),\n",
              " ('empoderamento', 'empoderamento'),\n",
              " ('asterisco', 'asterístico'),\n",
              " ('gratuito', 'gratuíto'),\n",
              " ('entretido', 'entertido'),\n",
              " ('ritmo', 'ritimo'),\n",
              " ('idiota', 'indiota'),\n",
              " ('tomara', 'tomare'),\n",
              " ('seja', 'seje'),\n",
              " ('prevalecer', 'provalecer'),\n",
              " ('esteja', 'esteje'),\n",
              " ('mendigo', 'mindigo'),\n",
              " ('cérebro', 'célebro'),\n",
              " ('perturbar', 'pertubar')]"
            ]
          },
          "metadata": {
            "tags": []
          },
          "execution_count": 24
        }
      ]
    },
    {
      "cell_type": "code",
      "metadata": {
        "id": "nQdO7vVlbWzK",
        "colab_type": "code",
        "colab": {
          "base_uri": "https://localhost:8080/",
          "height": 34
        },
        "outputId": "5b307f5d-b915-4e34-a087-d22300ac02e7"
      },
      "source": [
        "def avaliador(testes):\n",
        "  numero_palavras = len(testes)\n",
        "  acertou = 0\n",
        "  for correta, errada in testes:\n",
        "    palavra_corrigida = corretor(errada)\n",
        "    if palavra_corrigida == correta:\n",
        "      acertou += 1\n",
        "\n",
        "  taxa_acerto = (acertou / numero_palavras)\n",
        "  print(f\"{taxa_acerto}% de {numero_palavras} palavras\")\n",
        "\n",
        "avaliador(lista_teste)"
      ],
      "execution_count": null,
      "outputs": [
        {
          "output_type": "stream",
          "text": [
            "0.7634408602150538% de 186 palavras\n"
          ],
          "name": "stdout"
        }
      ]
    },
    {
      "cell_type": "code",
      "metadata": {
        "id": "NNfHyZF3hm8Q",
        "colab_type": "code",
        "colab": {}
      },
      "source": [
        "def deletando_char(fatias):\n",
        "  novas_palavras = []\n",
        "\n",
        "  for Esquerdo, Direito in fatias:\n",
        "     novas_palavras.append(Esquerdo + Direito[1:])\n",
        "  return novas_palavras"
      ],
      "execution_count": null,
      "outputs": []
    },
    {
      "cell_type": "code",
      "metadata": {
        "id": "sILK4F5diGia",
        "colab_type": "code",
        "colab": {
          "base_uri": "https://localhost:8080/",
          "height": 1000
        },
        "outputId": "f2cb22b5-a1a5-4d3f-ae37-b4ff9f861e9e"
      },
      "source": [
        "gerador_palavras(\"lóigica\")"
      ],
      "execution_count": null,
      "outputs": [
        {
          "output_type": "execute_result",
          "data": {
            "text/plain": [
              "['alóigica',\n",
              " 'blóigica',\n",
              " 'clóigica',\n",
              " 'dlóigica',\n",
              " 'elóigica',\n",
              " 'flóigica',\n",
              " 'glóigica',\n",
              " 'hlóigica',\n",
              " 'ilóigica',\n",
              " 'jlóigica',\n",
              " 'klóigica',\n",
              " 'llóigica',\n",
              " 'mlóigica',\n",
              " 'nlóigica',\n",
              " 'olóigica',\n",
              " 'plóigica',\n",
              " 'qlóigica',\n",
              " 'rlóigica',\n",
              " 'slóigica',\n",
              " 'tlóigica',\n",
              " 'ulóigica',\n",
              " 'vlóigica',\n",
              " 'wlóigica',\n",
              " 'xlóigica',\n",
              " 'ylóigica',\n",
              " 'zlóigica',\n",
              " 'àlóigica',\n",
              " 'álóigica',\n",
              " 'âlóigica',\n",
              " 'élóigica',\n",
              " 'êlóigica',\n",
              " 'èlóigica',\n",
              " 'ílóigica',\n",
              " 'îlóigica',\n",
              " 'ìlóigica',\n",
              " 'ólóigica',\n",
              " 'ôlóigica',\n",
              " 'õlóigica',\n",
              " 'òlóigica',\n",
              " 'úlóigica',\n",
              " 'ûlóigica',\n",
              " 'ùlóigica',\n",
              " 'çlóigica',\n",
              " 'laóigica',\n",
              " 'lbóigica',\n",
              " 'lcóigica',\n",
              " 'ldóigica',\n",
              " 'leóigica',\n",
              " 'lfóigica',\n",
              " 'lgóigica',\n",
              " 'lhóigica',\n",
              " 'lióigica',\n",
              " 'ljóigica',\n",
              " 'lkóigica',\n",
              " 'llóigica',\n",
              " 'lmóigica',\n",
              " 'lnóigica',\n",
              " 'loóigica',\n",
              " 'lpóigica',\n",
              " 'lqóigica',\n",
              " 'lróigica',\n",
              " 'lsóigica',\n",
              " 'ltóigica',\n",
              " 'luóigica',\n",
              " 'lvóigica',\n",
              " 'lwóigica',\n",
              " 'lxóigica',\n",
              " 'lyóigica',\n",
              " 'lzóigica',\n",
              " 'làóigica',\n",
              " 'láóigica',\n",
              " 'lâóigica',\n",
              " 'léóigica',\n",
              " 'lêóigica',\n",
              " 'lèóigica',\n",
              " 'líóigica',\n",
              " 'lîóigica',\n",
              " 'lìóigica',\n",
              " 'lóóigica',\n",
              " 'lôóigica',\n",
              " 'lõóigica',\n",
              " 'lòóigica',\n",
              " 'lúóigica',\n",
              " 'lûóigica',\n",
              " 'lùóigica',\n",
              " 'lçóigica',\n",
              " 'lóaigica',\n",
              " 'lóbigica',\n",
              " 'lócigica',\n",
              " 'lódigica',\n",
              " 'lóeigica',\n",
              " 'lófigica',\n",
              " 'lógigica',\n",
              " 'lóhigica',\n",
              " 'lóiigica',\n",
              " 'lójigica',\n",
              " 'lókigica',\n",
              " 'lóligica',\n",
              " 'lómigica',\n",
              " 'lónigica',\n",
              " 'lóoigica',\n",
              " 'lópigica',\n",
              " 'lóqigica',\n",
              " 'lórigica',\n",
              " 'lósigica',\n",
              " 'lótigica',\n",
              " 'lóuigica',\n",
              " 'lóvigica',\n",
              " 'lówigica',\n",
              " 'lóxigica',\n",
              " 'lóyigica',\n",
              " 'lózigica',\n",
              " 'lóàigica',\n",
              " 'lóáigica',\n",
              " 'lóâigica',\n",
              " 'lóéigica',\n",
              " 'lóêigica',\n",
              " 'lóèigica',\n",
              " 'lóíigica',\n",
              " 'lóîigica',\n",
              " 'lóìigica',\n",
              " 'lóóigica',\n",
              " 'lóôigica',\n",
              " 'lóõigica',\n",
              " 'lóòigica',\n",
              " 'lóúigica',\n",
              " 'lóûigica',\n",
              " 'lóùigica',\n",
              " 'lóçigica',\n",
              " 'lóiagica',\n",
              " 'lóibgica',\n",
              " 'lóicgica',\n",
              " 'lóidgica',\n",
              " 'lóiegica',\n",
              " 'lóifgica',\n",
              " 'lóiggica',\n",
              " 'lóihgica',\n",
              " 'lóiigica',\n",
              " 'lóijgica',\n",
              " 'lóikgica',\n",
              " 'lóilgica',\n",
              " 'lóimgica',\n",
              " 'lóingica',\n",
              " 'lóiogica',\n",
              " 'lóipgica',\n",
              " 'lóiqgica',\n",
              " 'lóirgica',\n",
              " 'lóisgica',\n",
              " 'lóitgica',\n",
              " 'lóiugica',\n",
              " 'lóivgica',\n",
              " 'lóiwgica',\n",
              " 'lóixgica',\n",
              " 'lóiygica',\n",
              " 'lóizgica',\n",
              " 'lóiàgica',\n",
              " 'lóiágica',\n",
              " 'lóiâgica',\n",
              " 'lóiégica',\n",
              " 'lóiêgica',\n",
              " 'lóiègica',\n",
              " 'lóiígica',\n",
              " 'lóiîgica',\n",
              " 'lóiìgica',\n",
              " 'lóiógica',\n",
              " 'lóiôgica',\n",
              " 'lóiõgica',\n",
              " 'lóiògica',\n",
              " 'lóiúgica',\n",
              " 'lóiûgica',\n",
              " 'lóiùgica',\n",
              " 'lóiçgica',\n",
              " 'lóigaica',\n",
              " 'lóigbica',\n",
              " 'lóigcica',\n",
              " 'lóigdica',\n",
              " 'lóigeica',\n",
              " 'lóigfica',\n",
              " 'lóiggica',\n",
              " 'lóighica',\n",
              " 'lóigiica',\n",
              " 'lóigjica',\n",
              " 'lóigkica',\n",
              " 'lóiglica',\n",
              " 'lóigmica',\n",
              " 'lóignica',\n",
              " 'lóigoica',\n",
              " 'lóigpica',\n",
              " 'lóigqica',\n",
              " 'lóigrica',\n",
              " 'lóigsica',\n",
              " 'lóigtica',\n",
              " 'lóiguica',\n",
              " 'lóigvica',\n",
              " 'lóigwica',\n",
              " 'lóigxica',\n",
              " 'lóigyica',\n",
              " 'lóigzica',\n",
              " 'lóigàica',\n",
              " 'lóigáica',\n",
              " 'lóigâica',\n",
              " 'lóigéica',\n",
              " 'lóigêica',\n",
              " 'lóigèica',\n",
              " 'lóigíica',\n",
              " 'lóigîica',\n",
              " 'lóigìica',\n",
              " 'lóigóica',\n",
              " 'lóigôica',\n",
              " 'lóigõica',\n",
              " 'lóigòica',\n",
              " 'lóigúica',\n",
              " 'lóigûica',\n",
              " 'lóigùica',\n",
              " 'lóigçica',\n",
              " 'lóigiaca',\n",
              " 'lóigibca',\n",
              " 'lóigicca',\n",
              " 'lóigidca',\n",
              " 'lóigieca',\n",
              " 'lóigifca',\n",
              " 'lóigigca',\n",
              " 'lóigihca',\n",
              " 'lóigiica',\n",
              " 'lóigijca',\n",
              " 'lóigikca',\n",
              " 'lóigilca',\n",
              " 'lóigimca',\n",
              " 'lóiginca',\n",
              " 'lóigioca',\n",
              " 'lóigipca',\n",
              " 'lóigiqca',\n",
              " 'lóigirca',\n",
              " 'lóigisca',\n",
              " 'lóigitca',\n",
              " 'lóigiuca',\n",
              " 'lóigivca',\n",
              " 'lóigiwca',\n",
              " 'lóigixca',\n",
              " 'lóigiyca',\n",
              " 'lóigizca',\n",
              " 'lóigiàca',\n",
              " 'lóigiáca',\n",
              " 'lóigiâca',\n",
              " 'lóigiéca',\n",
              " 'lóigiêca',\n",
              " 'lóigièca',\n",
              " 'lóigiíca',\n",
              " 'lóigiîca',\n",
              " 'lóigiìca',\n",
              " 'lóigióca',\n",
              " 'lóigiôca',\n",
              " 'lóigiõca',\n",
              " 'lóigiòca',\n",
              " 'lóigiúca',\n",
              " 'lóigiûca',\n",
              " 'lóigiùca',\n",
              " 'lóigiçca',\n",
              " 'lóigicaa',\n",
              " 'lóigicba',\n",
              " 'lóigicca',\n",
              " 'lóigicda',\n",
              " 'lóigicea',\n",
              " 'lóigicfa',\n",
              " 'lóigicga',\n",
              " 'lóigicha',\n",
              " 'lóigicia',\n",
              " 'lóigicja',\n",
              " 'lóigicka',\n",
              " 'lóigicla',\n",
              " 'lóigicma',\n",
              " 'lóigicna',\n",
              " 'lóigicoa',\n",
              " 'lóigicpa',\n",
              " 'lóigicqa',\n",
              " 'lóigicra',\n",
              " 'lóigicsa',\n",
              " 'lóigicta',\n",
              " 'lóigicua',\n",
              " 'lóigicva',\n",
              " 'lóigicwa',\n",
              " 'lóigicxa',\n",
              " 'lóigicya',\n",
              " 'lóigicza',\n",
              " 'lóigicàa',\n",
              " 'lóigicáa',\n",
              " 'lóigicâa',\n",
              " 'lóigicéa',\n",
              " 'lóigicêa',\n",
              " 'lóigicèa',\n",
              " 'lóigicía',\n",
              " 'lóigicîa',\n",
              " 'lóigicìa',\n",
              " 'lóigicóa',\n",
              " 'lóigicôa',\n",
              " 'lóigicõa',\n",
              " 'lóigicòa',\n",
              " 'lóigicúa',\n",
              " 'lóigicûa',\n",
              " 'lóigicùa',\n",
              " 'lóigicça',\n",
              " 'lóigicaa',\n",
              " 'lóigicab',\n",
              " 'lóigicac',\n",
              " 'lóigicad',\n",
              " 'lóigicae',\n",
              " 'lóigicaf',\n",
              " 'lóigicag',\n",
              " 'lóigicah',\n",
              " 'lóigicai',\n",
              " 'lóigicaj',\n",
              " 'lóigicak',\n",
              " 'lóigical',\n",
              " 'lóigicam',\n",
              " 'lóigican',\n",
              " 'lóigicao',\n",
              " 'lóigicap',\n",
              " 'lóigicaq',\n",
              " 'lóigicar',\n",
              " 'lóigicas',\n",
              " 'lóigicat',\n",
              " 'lóigicau',\n",
              " 'lóigicav',\n",
              " 'lóigicaw',\n",
              " 'lóigicax',\n",
              " 'lóigicay',\n",
              " 'lóigicaz',\n",
              " 'lóigicaà',\n",
              " 'lóigicaá',\n",
              " 'lóigicaâ',\n",
              " 'lóigicaé',\n",
              " 'lóigicaê',\n",
              " 'lóigicaè',\n",
              " 'lóigicaí',\n",
              " 'lóigicaî',\n",
              " 'lóigicaì',\n",
              " 'lóigicaó',\n",
              " 'lóigicaô',\n",
              " 'lóigicaõ',\n",
              " 'lóigicaò',\n",
              " 'lóigicaú',\n",
              " 'lóigicaû',\n",
              " 'lóigicaù',\n",
              " 'lóigicaç',\n",
              " 'óigica',\n",
              " 'ligica',\n",
              " 'lógica',\n",
              " 'lóiica',\n",
              " 'lóigca',\n",
              " 'lóigia',\n",
              " 'lóigic',\n",
              " 'lóigica']"
            ]
          },
          "metadata": {
            "tags": []
          },
          "execution_count": 32
        }
      ]
    },
    {
      "cell_type": "code",
      "metadata": {
        "id": "HjSjnxKxiVfw",
        "colab_type": "code",
        "colab": {
          "base_uri": "https://localhost:8080/",
          "height": 34
        },
        "outputId": "9342110b-659b-40eb-f83b-9bc5c4e31da6"
      },
      "source": [
        "avaliador(lista_teste)"
      ],
      "execution_count": null,
      "outputs": [
        {
          "output_type": "stream",
          "text": [
            "0.7634408602150538% de 186 palavras\n"
          ],
          "name": "stdout"
        }
      ]
    },
    {
      "cell_type": "code",
      "metadata": {
        "id": "FlLj78EsjAgK",
        "colab_type": "code",
        "colab": {}
      },
      "source": [
        "def troca_letra(fatias):\n",
        "  novas_palavras = []\n",
        "  letras = 'abcdefghijklmnopqrstuvwxyzàáâéêèíîìóôõòúûùç'\n",
        "\n",
        "  for Esquerdo, Direito in fatias:\n",
        "    for letra in letras:\n",
        "     novas_palavras.append(Esquerdo + letra + Direito[1:])\n",
        "  return novas_palavras"
      ],
      "execution_count": null,
      "outputs": []
    },
    {
      "cell_type": "code",
      "metadata": {
        "id": "cVONnwrtkt4x",
        "colab_type": "code",
        "colab": {}
      },
      "source": [
        "def inverte_letra(fatias):\n",
        "  novas_palavras = []\n",
        "\n",
        "  for Esquerdo, Direito in fatias:\n",
        "     if len(Direito) > 1:\n",
        "      novas_palavras.append(Esquerdo + Direito[1:] + Direito[0] + Direito[2:])\n",
        "  return novas_palavras"
      ],
      "execution_count": null,
      "outputs": []
    },
    {
      "cell_type": "code",
      "metadata": {
        "id": "oIrbHLuhlldF",
        "colab_type": "code",
        "colab": {
          "base_uri": "https://localhost:8080/",
          "height": 816
        },
        "outputId": "b7d0fc95-d7f3-4c24-a04e-044408e4d73d"
      },
      "source": [
        "def avaliador_total(testes, vocabulario):\n",
        "  numero_palavras = len(testes)\n",
        "  acertou = 0\n",
        "  desconhecida = 0\n",
        "  for correta, errada in testes:\n",
        "    palavra_corrigida = corretor(errada)\n",
        "    desconhecida += (correta not in vocabulario)\n",
        "    if palavra_corrigida == correta:\n",
        "      acertou += 1\n",
        "    else:\n",
        "      print(errada + \"-\" + corretor(errada) + '-' + palavra_corrigida)\n",
        "\n",
        "  taxa_acerto = (acertou / numero_palavras)\n",
        "  taxa_desconhecida = (desconhecida / numero_palavras)\n",
        "  print(f\"acertou {taxa_acerto}% de {numero_palavras} palavras, desconhecidas: {taxa_desconhecida}%\")\n",
        "\n",
        "avaliador_total(lista_teste, vocabulario)"
      ],
      "execution_count": null,
      "outputs": [
        {
          "output_type": "stream",
          "text": [
            "eme-em-em\n",
            "noâ-no-no\n",
            "teb-tem-tem\n",
            "âem-em-em\n",
            "serr-ser-ser\n",
            "eû-e-e\n",
            "jé-é-é\n",
            "dms-dos-dos\n",
            "cava-java-java\n",
            "nossk-nosso-nosso\n",
            "ìeu-seu-seu\n",
            "qelay-delay-delay\n",
            "dtilizacr-adtilizacr-adtilizacr\n",
            "bprojõto-abprojõto-abprojõto\n",
            "ysiteo-aysiteo-aysiteo\n",
            "sõêm-asõêm-asõêm\n",
            "peàli-apeàli-apeàli\n",
            "asuraó-aasuraó-aasuraó\n",
            "deiìa-deixa-deixa\n",
            "tuĩdoì-atuĩdoì-atuĩdoì\n",
            "eúaa-aeúaa-aeúaa\n",
            "utilizẽaçr-autilizẽaçr-autilizẽaçr\n",
            "prêjetó-aprêjetó-aprêjetó\n",
            "sqiqte-asqiqte-asqiqte\n",
            "sũexm-asũexm-asũexm\n",
            "pçlxo-apçlxo-apçlxo\n",
            "uluraa-auluraa-auluraa\n",
            "dĩaz-adĩaz-adĩaz\n",
            "kzudo-akzudo-akzudo\n",
            "ewpoderamento-aewpoderamento-aewpoderamento\n",
            "cakvalo-acakvalo-acakvalo\n",
            "canelac-acanelac-acanelac\n",
            "tênisy-atênisy-atênisy\n",
            "anciosa-aanciosa-aanciosa\n",
            "ancciosa-aancciosa-aancciosa\n",
            "ansioa-aansioa-aansioa\n",
            "empoderamento-aempoderamento-aempoderamento\n",
            "asterístico-aasterístico-aasterístico\n",
            "entertido-aentertido-aentertido\n",
            "indiota-aindiota-aindiota\n",
            "tomare-tomar-tomar\n",
            "provalecer-aprovalecer-aprovalecer\n",
            "mindigo-amindigo-amindigo\n",
            "pertubar-apertubar-apertubar\n",
            "acertou 0.7634408602150538% de 186 palavras, desconhecidas: 0.07526881720430108%\n"
          ],
          "name": "stdout"
        }
      ]
    },
    {
      "cell_type": "code",
      "metadata": {
        "id": "xLBEYPLho3Kc",
        "colab_type": "code",
        "colab": {
          "base_uri": "https://localhost:8080/",
          "height": 34
        },
        "outputId": "4b9eea74-6860-4b11-90f9-3ad42a8c113d"
      },
      "source": [
        "vocabulario = set(lista_normalizada)\n",
        "avaliador_total(lista_teste, vocabulario)"
      ],
      "execution_count": null,
      "outputs": [
        {
          "output_type": "stream",
          "text": [
            "acertou 0.7634408602150538% de 186 palavras, desconhecidas: 0.07526881720430108%\n"
          ],
          "name": "stdout"
        }
      ]
    },
    {
      "cell_type": "code",
      "metadata": {
        "id": "M2m3GZc8pSCr",
        "colab_type": "code",
        "colab": {
          "base_uri": "https://localhost:8080/",
          "height": 34
        },
        "outputId": "64120f01-6532-4596-b086-2e0ce4602de0"
      },
      "source": [
        "palavra = \"lóiigica\"\n",
        "\n",
        "def gerador_turbinado(palavras_geradas):\n",
        "  novas_palavras = []\n",
        "  for palavra in palavras_geradas:\n",
        "    novas_palavras += gerador_palavras(palavra)\n",
        "  return novas_palavras\n",
        "\n",
        "\"lógica\" in gerador_turbinado(gerador_palavras(palavra))"
      ],
      "execution_count": null,
      "outputs": [
        {
          "output_type": "execute_result",
          "data": {
            "text/plain": [
              "True"
            ]
          },
          "metadata": {
            "tags": []
          },
          "execution_count": 52
        }
      ]
    },
    {
      "cell_type": "code",
      "metadata": {
        "id": "YwYXCkg_q-CK",
        "colab_type": "code",
        "colab": {
          "base_uri": "https://localhost:8080/",
          "height": 35
        },
        "outputId": "4725a0f9-e902-4725-e84a-5b9c85443f69"
      },
      "source": [
        "def novo_corretor(palavra):\n",
        "  palavras_geradas = gerador_palavras(palavra)\n",
        "  pgt = gerador_turbinado(palavras_geradas)\n",
        "  todas_palavras = set(palavras_geradas + pgt)\n",
        "  candidatos = [palavra]\n",
        "  for palavra in todas_palavras:\n",
        "    if palavra in vocabulario:\n",
        "      candidatos.append(palavra)\n",
        "  palavra_correta = max(candidatos, key=probabilidade)\n",
        "  return palavra_correta\n",
        "\n",
        "novo_corretor(palavra)"
      ],
      "execution_count": null,
      "outputs": [
        {
          "output_type": "execute_result",
          "data": {
            "application/vnd.google.colaboratory.intrinsic+json": {
              "type": "string"
            },
            "text/plain": [
              "'lógica'"
            ]
          },
          "metadata": {
            "tags": []
          },
          "execution_count": 53
        }
      ]
    }
  ]
}